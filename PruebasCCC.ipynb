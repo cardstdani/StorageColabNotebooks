{
  "nbformat": 4,
  "nbformat_minor": 0,
  "metadata": {
    "colab": {
      "provenance": [],
      "private_outputs": true,
      "authorship_tag": "ABX9TyODhFsl7sJoj9/u8ngZVpbg",
      "include_colab_link": true
    },
    "kernelspec": {
      "name": "python3",
      "display_name": "Python 3"
    },
    "language_info": {
      "name": "python"
    }
  },
  "cells": [
    {
      "cell_type": "markdown",
      "metadata": {
        "id": "view-in-github",
        "colab_type": "text"
      },
      "source": [
        "<a href=\"https://colab.research.google.com/github/cardstdani/StorageColabNotebooks/blob/main/PruebasCCC.ipynb\" target=\"_parent\"><img src=\"https://colab.research.google.com/assets/colab-badge.svg\" alt=\"Open In Colab\"/></a>"
      ]
    },
    {
      "cell_type": "code",
      "source": [
        "import random\n",
        "import time\n",
        "\n",
        "def aleatorio(n):\n",
        "    return [random.randint(1,10) for i in range(n)]\n",
        "random.seed(50)\n",
        "\n",
        "print(aleatorio(10))\n",
        "\n",
        "print(aleatorio(10))\n",
        "\n",
        "print(aleatorio(10))"
      ],
      "metadata": {
        "id": "AFCFr80v6KFr"
      },
      "execution_count": null,
      "outputs": []
    },
    {
      "cell_type": "code",
      "source": [
        "random.seed(50)\n",
        "\n",
        "print(aleatorio(30))"
      ],
      "metadata": {
        "id": "iBPvUcr199kr"
      },
      "execution_count": null,
      "outputs": []
    },
    {
      "cell_type": "code",
      "source": [
        "import subprocess\n",
        "import time\n",
        "import matplotlib.pyplot as plt\n",
        "\n",
        "user_code = \"\"\"\n",
        "def functional_insertion_sort(arr):\n",
        "    for i in range(1, len(arr)):\n",
        "        key = arr[i]\n",
        "        j = i - 1\n",
        "        while j >= 0 and key < arr[j]:\n",
        "            arr[j + 1] = arr[j]\n",
        "            j -= 1\n",
        "        arr[j + 1] = key\n",
        "    return arr\n",
        "\n",
        "def generate_random_points(min_val, max_val, length):\n",
        "    import random\n",
        "    return [random.randint(min_val, max_val) for _ in range(length)]\n",
        "\n",
        "if __name__ == '__main__':\n",
        "    import sys\n",
        "    min_val, max_val, length = int(sys.argv[1]), int(sys.argv[2]), int(sys.argv[3])\n",
        "    data = generate_random_points(min_val, max_val, length)\n",
        "    functional_insertion_sort(data)\n",
        "\"\"\"\n",
        "\n",
        "language = \"python\"\n",
        "temp_file = f\"temp_code.{language}\"\n",
        "\n",
        "with open(temp_file, 'w') as f:\n",
        "    f.write(user_code)\n",
        "\n",
        "def measure_time(command):\n",
        "    start = time.perf_counter()\n",
        "    subprocess.run(command, shell=True)\n",
        "    return time.perf_counter() - start\n",
        "\n",
        "min_val, max_val, num_runs = -100, 100, 10\n",
        "lengths = range(1, 101)\n",
        "data = []\n",
        "\n",
        "for length in lengths:\n",
        "    total_time = 0\n",
        "    for _ in range(num_runs):\n",
        "        if language == 'python':\n",
        "            cmd = f\"python {temp_file} {min_val} {max_val} {length}\"\n",
        "        elif language == 'cpp':\n",
        "            subprocess.run(f\"g++ -o temp_cpp {temp_file}\", shell=True)\n",
        "            cmd = f\"./temp_cpp {min_val} {max_val} {length}\"\n",
        "        total_time += measure_time(cmd)\n",
        "    data.append((length, total_time / num_runs))\n",
        "\n",
        "lengths, times = zip(*data)\n",
        "plt.plot(lengths, times, label=language)\n",
        "\n",
        "plt.xlabel('Input Size')\n",
        "plt.ylabel('Time (seconds)')\n",
        "plt.title(f'Algorithm Execution Time in {language.capitalize()}')\n",
        "plt.legend()\n",
        "plt.show()"
      ],
      "metadata": {
        "id": "dGwT_9VOHX5h"
      },
      "execution_count": null,
      "outputs": []
    },
    {
      "cell_type": "code",
      "source": [
        "l1 = [550,600,700,650,700,500]\n",
        "l2 = [7,7,7,7,7]\n",
        "l3 = [0,5,3,4,1,2]\n",
        "l4 = [6,4,5,6,0,0,8]\n",
        "\n",
        "def g(l, w):\n",
        "    m = max(l)\n",
        "    tmp = sum(l[:w])\n",
        "    m_count = sum(1 for i in l[:w] if i==m)\n",
        "    out = [tmp if m_count > 0 else 0,0]\n",
        "    for i in range(len(l)-w):\n",
        "        m_count-=1 if l[i]==m else 0\n",
        "        m_count+=1 if l[i+w]==m else 0\n",
        "        tmp-=l[i]\n",
        "        tmp+=l[i+w] if (i+w)<len(l) else 0\n",
        "        if tmp >= out[0] and m_count>0:\n",
        "            out = [tmp, i+1]\n",
        "    return [out[0], out[1]+1]\n",
        "\n",
        "print(g(l1,2))\n",
        "print(g(l2,3))\n",
        "print(g(l3,2))\n",
        "print(g(l4,2))"
      ],
      "metadata": {
        "id": "1lx_y-E_9QIa"
      },
      "execution_count": null,
      "outputs": []
    },
    {
      "cell_type": "code",
      "source": [
        "text = \"\"\"0.97257938,2.6287922,5.1902914,8.6845956,13.125914,18.522651,24.880224,32.202345,40.491677,49.750200,59.979433,71.180566,83.354551,96.502165,110.62405,125.72074,141.79269,158.84029,176.86387,195.86372,215.84030,236.79346,258.72542,281.63322,305.51535,330.37732,356.21685,383.03406,410.82905,439.60192,469.35277,500.08167,531.78870,564.47392,598.13741,632.77923,668.39942,704.99804,742.57514,781.13076,820.66495,861.17775,902.66919,945.13931,988.58815,1033.0157,1078.4221,1124.8072,1172.1712,1220.5140,1269.8358,1320.1364,1371.4159,1423.6744,1476.9118,1531.1283,1586.3237,1642.4981,1699.6516,1757.7841,1816.8957,1876.9864,1938.0561,2000.1050,2063.1330,2127.1401,2192.1264,2258.0918,2325.0364,2392.9601,2461.8631,2531.7452,2602.6066,2674.4471,2747.2669,2821.0660,2895.8442,2971.6017,3048.3385,3126.0546,3204.7499,3284.4245,3365.0783,3446.7115,3529.3240,3612.9157,3697.4868,3783.0372,3869.5669,3957.0760,4045.5644,4135.0321,4225.4792,4316.9056,4409.3114,4502.6966,4597.0611,4692.4049,4788.7282,4886.0308,4984.3129,5083.5743,5183.8151,5285.0353,5387.2348,5490.4138,5594.5722,5699.7100,5805.8273,5912.9239,6021.0000,6130.0554,6240.0904,6351.1047,6463.0985,6576.0717,6690.0243,6804.9564,6920.8679,7037.7608,7155.6313,7274.4812,7394.3106,7515.1194,7636.9077,7759.6754,7883.4227,8008.1493,8133.8555,8260.5411,8388.2062,8516.8508,8646.4749,8777.0784,8908.6614,9041.2239,9174.7659,9309.2874,9444.7884,9581.2689,9718.7288,9857.1683,9996.5873,10136.986,10278.364,10420.721,10564.058,10708.375,10853.671,10999.946,11147.201,11295.436,11444.650,11594.843,11746.016,11898.169,12051.301,12205.413,12360.504,12516.574,12673.625,12831.654,12990.664,13150.652,13311.621,13473.569,13636.496,13800.403,13965.289,14131.155,14298.001,14465.826,14634.631,14804.415,14975.178,15146.922,15319.644,15493.347,15668.029,15843.690,16020.331,16197.952,16376.552,16556.131,16736.691,16918.229,17100.748,17284.245,17468.723,17654.180,17840.616,18028.032,18216.428,18405.803,18596.158,18787.492,18979.806,19173.100,19367.373,19562.625,19758.858,19956.069,20154.261,20353.432,20553.582,20754.712,20956.822,21159.911,21363.979,21569.028,21775.056,21982.063,22190.050,22399.017,22608.963,22819.889,23031.794,23244.679,23458.543,23673.388,23889.211,24106.014,24323.797,24542.560,24762.302,24983.023,25204.724,25427.405,25651.066,25875.705,26101.325,26327.924,26555.503,26784.061,27013.599,27244.116,27475.613,27708.090,27941.546,28175.982,28411.397,28647.792,28885.167,29123.521,29362.855,29603.168,29844.461,30086.734,30329.986,30574.218,30819.429,31065.620,31312.791,31560.941,31810.071,32060.180,32311.269,32563.338,32816.386,33070.414,33325.421,33581.408,33838.374,34096.321,34355.246,34615.152,34876.037,35137.901,35400.746,35664.569,35929.373,36195.156,36461.918,36729.661,36998.382,37268.084,37538.765,37810.426,38083.066,38356.686,38631.286,38906.865,39183.423,39460.962,39739.480,40018.977,40299.454,40580.911,40863.347,41146.763,41431.159,41716.534,42002.889,42290.224,42578.538,42867.831,43158.105,43449.358,43741.590\"\"\"\n",
        "res = list(enumerate(map(float, text.replace('*', '').replace('^', 'e').split(\",\")), 2))\n",
        "for i in res:\n",
        "    print(i[0], i[1])"
      ],
      "metadata": {
        "id": "_b36KNudnrn5"
      },
      "execution_count": null,
      "outputs": []
    },
    {
      "cell_type": "markdown",
      "source": [
        "**SDIS**"
      ],
      "metadata": {
        "id": "lQsJzfnBodFG"
      }
    },
    {
      "cell_type": "code",
      "source": [
        "!pip install pyvis\n",
        "!pip install accelerate"
      ],
      "metadata": {
        "id": "JcdIg4e_Mrui"
      },
      "execution_count": null,
      "outputs": []
    },
    {
      "cell_type": "code",
      "source": [
        "!nvidia-smi"
      ],
      "metadata": {
        "id": "pcWuVQ_EopT-"
      },
      "execution_count": null,
      "outputs": []
    },
    {
      "cell_type": "code",
      "source": [
        "import torch\n",
        "from transformers import pipeline\n",
        "\n",
        "generator = pipeline('text-generation', model='gpt2-large', device=\"cuda\")\n",
        "input_text = \"\"\n",
        "while True:\n",
        "    input_text = input(\"You: \")\n",
        "    request = generator(input_text, min_length=200)\n",
        "    print(\"GPT: \", request)"
      ],
      "metadata": {
        "id": "aALLWzxVngHy"
      },
      "execution_count": null,
      "outputs": []
    },
    {
      "cell_type": "code",
      "source": [
        "import socket\n",
        "import threading\n",
        "import networkx as nx\n",
        "import matplotlib.pyplot as plt\n",
        "from pyvis.network import Network\n",
        "\n",
        "G = nx.Graph()\n",
        "def visualize_graph():\n",
        "    plt.figure(figsize=(8, 8))\n",
        "    nx.draw(G, with_labels=True, node_color='lightblue', edge_color='gray')\n",
        "    nt = Network(notebook=True)\n",
        "    nt.set_options(\"\"\"\n",
        "    var options = {\n",
        "      \"layout\": {\n",
        "        \"hierarchical\": {\n",
        "          \"enabled\": true,\n",
        "          \"levelSeparation\": 150,\n",
        "          \"nodeSpacing\": 100,\n",
        "          \"treeSpacing\": 200,\n",
        "          \"direction\": \"UD\",\n",
        "          \"sortMethod\": \"directed\"\n",
        "        }\n",
        "      }\n",
        "    }\n",
        "    \"\"\")\n",
        "    nt.from_nx(G)\n",
        "    nt.show(\"macarrones.html\")\n",
        "\n",
        "\n",
        "def handle_client(conn, addr):\n",
        "    with conn:\n",
        "        data = conn.recv(1024).decode('utf-8')\n",
        "        print(f\"Message from {addr}: {data}\")\n",
        "        nodes = data.strip().split(',')\n",
        "        if len(nodes) > 1:\n",
        "            G.add_node(nodes[0])\n",
        "            for child in nodes[1:]:\n",
        "                G.add_node(child)\n",
        "                G.add_edge(nodes[0], child)\n",
        "            visualize_graph()\n",
        "        conn.close()\n",
        "\n",
        "\n",
        "def server_thread(host, port):\n",
        "    with socket.socket(socket.AF_INET, socket.SOCK_STREAM) as server_socket:\n",
        "        server_socket.bind((host, port))\n",
        "        server_socket.listen()\n",
        "        print(f\"Server listening on {host}:{port}\")\n",
        "\n",
        "        while True:\n",
        "            try:\n",
        "                conn, addr = server_socket.accept()\n",
        "                print(f\"New connection from {addr}\")\n",
        "                client_thread = threading.Thread(target=handle_client, args=(conn, addr))\n",
        "                client_thread.start()\n",
        "            except Exception as e:\n",
        "                print(f\"Server error: {e}\")\n",
        "\n",
        "\n",
        "def get_host_ip():\n",
        "    try:\n",
        "        with socket.socket(socket.AF_INET, socket.SOCK_DGRAM) as s:\n",
        "            s.connect((\"8.8.8.8\", 80))  # Gugel:)\n",
        "            return s.getsockname()[0]\n",
        "    except Exception:\n",
        "        return '127.0.0.1'\n",
        "\n",
        "\n",
        "host, port = get_host_ip(), 1000\n",
        "server = threading.Thread(target=server_thread, args=(host, port))\n",
        "server.start()\n"
      ],
      "metadata": {
        "id": "y_UpqpvUHhiG"
      },
      "execution_count": null,
      "outputs": []
    },
    {
      "cell_type": "markdown",
      "source": [
        "**Vectores**"
      ],
      "metadata": {
        "id": "SNMnGjP8UlJP"
      }
    },
    {
      "cell_type": "code",
      "source": [
        "vector_size = int(input())\n",
        "v, w = None, None\n",
        "\n",
        "try:\n",
        "    v, w = list(map(float, input().split(\" \"))), list(map(float, input().split(\" \")))\n",
        "    if not len(v)==len(w):\n",
        "        raise Exception()\n",
        "except:\n",
        "    print(\"😌\")\n",
        "\n",
        "s = sum(i[0]*i[1] for i in zip(v, w))\n",
        "print(\"\\n\".join(map(str, [v, w, s])))"
      ],
      "metadata": {
        "id": "I24AlKFOUo6Z"
      },
      "execution_count": null,
      "outputs": []
    },
    {
      "cell_type": "code",
      "source": [
        "import numpy as np\n",
        "\n",
        "vector_size = int(input())\n",
        "v, w = None, None\n",
        "try:\n",
        "    v, w = np.array(input().split(\" \"), dtype=np.float128), np.array(input().split(\" \"), dtype=np.float128)\n",
        "    if not len(v)==len(w):\n",
        "        raise Exception()\n",
        "except:\n",
        "    print(\"😌\")\n",
        "\n",
        "s = np.dot(v, w)\n",
        "print(\"\\n\".join(map(str, [v, w, s])))"
      ],
      "metadata": {
        "id": "ev0vLlppXMil"
      },
      "execution_count": null,
      "outputs": []
    },
    {
      "cell_type": "markdown",
      "source": [
        "**Módulo Serie Taylor**"
      ],
      "metadata": {
        "id": "blSEqukSRjr8"
      }
    },
    {
      "cell_type": "code",
      "source": [
        "import functools\n",
        "import numpy as np\n",
        "\n",
        "def factorial(n):\n",
        "    tmp = 1\n",
        "    for i in range(1, n+1):\n",
        "        tmp *= i\n",
        "    return tmp\n",
        "\n",
        "def factorial_recursive(n):\n",
        "    if n<=1: return n\n",
        "    return n*factorial_recursive(n-1)\n",
        "\n",
        "def factorial_functional(n):\n",
        "    return functools.reduce(lambda x,y:x*y, range(1, n+1))\n",
        "\n",
        "def factorial_optimal(n):\n",
        "    return np.prod(np.arange(1, n+1))\n",
        "\n",
        "factorial_lambda = lambda n: n if n<=1 else n*factorial_lambda(n-1)\n",
        "\n",
        "def sin_taylor(x, n):\n",
        "    tmp = 0\n",
        "    for i in range(0, n):\n",
        "        tmp += ((-1)**i / factorial(2*i + 1))*(x**(2*i + 1))\n",
        "    return tmp\n",
        "\n",
        "def sin_taylor_optimal(x, n):\n",
        "    return sum(((-1)**i / factorial(2*i + 1))*(x**(2*i + 1)) for i in range(0, n))"
      ],
      "metadata": {
        "id": "85Rcrbl_RpbS"
      },
      "execution_count": null,
      "outputs": []
    },
    {
      "cell_type": "code",
      "source": [
        "import time, sys\n",
        "sys.setrecursionlimit(19500)\n",
        "n = 10000\n",
        "\n",
        "def factorial_measure(func, n):\n",
        "    t = time.perf_counter()\n",
        "    func(n)\n",
        "    return time.perf_counter() - t\n",
        "\n",
        "for i in (factorial, factorial_recursive, factorial_functional, factorial_optimal, factorial_lambda):\n",
        "    print(f\"{i.__name__}: {factorial_measure(i, n)} segundos\")"
      ],
      "metadata": {
        "id": "8-wBrYgTupaL"
      },
      "execution_count": null,
      "outputs": []
    },
    {
      "cell_type": "code",
      "source": [
        "n = 10000000\n",
        "\n",
        "t = time.perf_counter()\n",
        "var=0\n",
        "for i in range(1, n):\n",
        "    var += 1\n",
        "t = time.perf_counter()-t\n",
        "print(t)\n",
        "\n",
        "t = time.perf_counter()\n",
        "sum(range(1, n))\n",
        "t = time.perf_counter()-t\n",
        "print(t)"
      ],
      "metadata": {
        "id": "Heham32yrxkb"
      },
      "execution_count": null,
      "outputs": []
    },
    {
      "cell_type": "markdown",
      "source": [
        "**Binary Search**"
      ],
      "metadata": {
        "id": "7TjHOSB7ZoYf"
      }
    },
    {
      "cell_type": "code",
      "source": [
        "def binary_search(arr, low, high, x):\n",
        "    if high >= low:\n",
        "        mid = (high + low) // 2\n",
        "        if arr[mid] == x:\n",
        "            return mid\n",
        "        elif arr[mid] > x:\n",
        "            return binary_search(arr, low, mid - 1, x)\n",
        "        else:\n",
        "            return binary_search(arr, mid + 1, high, x)\n",
        "    else:\n",
        "        return -1\n",
        "\n",
        "def binary_search_iterative(arr, low, high, x):\n",
        "    while high >= low:\n",
        "        mid = (high + low) // 2\n",
        "        if arr[mid] == x:\n",
        "            return mid\n",
        "        elif arr[mid] > x:\n",
        "            high = mid - 1\n",
        "        else:\n",
        "            low = mid + 1\n",
        "    return -1"
      ],
      "metadata": {
        "id": "x3pLPBPoZqJW"
      },
      "execution_count": null,
      "outputs": []
    },
    {
      "cell_type": "code",
      "source": [
        "import time\n",
        "import numpy as np\n",
        "n = 40000000\n",
        "\n",
        "l = np.random.randint(0, 100, n)\n",
        "element = l[-1]\n",
        "t = time.perf_counter()\n",
        "binary_search_iterative(l, 0, len(l)-1, element)\n",
        "t = time.perf_counter()-t\n",
        "print(t)\n",
        "\n",
        "t = time.perf_counter()\n",
        "binary_search(l, 0, len(l)-1, element)\n",
        "t = time.perf_counter()-t\n",
        "print(t)"
      ],
      "metadata": {
        "id": "xqs2lxaqaX3F"
      },
      "execution_count": null,
      "outputs": []
    },
    {
      "cell_type": "markdown",
      "source": [
        "**Generar Matriz en Texto**"
      ],
      "metadata": {
        "id": "3RwMdqzHYNXS"
      }
    },
    {
      "cell_type": "code",
      "source": [
        "print(\"\"\"\n",
        "[[0, 0, 1, 0, 0, 0, 0, 0, 0, 0],\n",
        " [0, 0, 1, 0, 0, 0, 0, 0, 0, 0],\n",
        " [0, 0, 1, 0, 0, 0, 0, 0, 0, 0],\n",
        " [0, 0, 1, 0, 0, 0, 0, 0, 0, 0],\n",
        " [0, 0, 1, 0, 1, 1, 1, 0, 0, 0],\n",
        " [0, 0, 1, 0, 1, 0, 1, 0, 0, 0],\n",
        " [0, 0, 1, 1, 1, 1, 1, 0, 0, 0],\n",
        " [0, 0, 0, 0, 0, 1, 0, 0, 0, 0],\n",
        " [0, 0, 0, 0, 1, 0, 0, 0, 0, 0],\n",
        " [0, 0, 0, 0, 1, 0, 0, 0, 0, 0]]\"\"\".replace(\"[\", \"{\").replace(\"]\", \"}\").replace(\"0\", \"false\").replace(\"1\", \"true\"))"
      ],
      "metadata": {
        "id": "ZcHxUZsVYMeu"
      },
      "execution_count": null,
      "outputs": []
    },
    {
      "cell_type": "code",
      "source": [
        "[[0]*10]*10"
      ],
      "metadata": {
        "id": "6_ay8rQaY3Bb"
      },
      "execution_count": null,
      "outputs": []
    },
    {
      "cell_type": "markdown",
      "source": [
        "**Datasets**\n",
        "https://www.kaggle.com/datasets/jorgerobinat/weather-forecasting-at-vigo-airport-using-ai?select=LEVX.csv\n",
        "\n",
        "https://www.kaggle.com/datasets/shahmirvarqha/weather-data-malaysia?select=full_weather.csv\n",
        "\n",
        "https://www.kaggle.com/datasets/johnjdavisiv/us-counties-covid19-weather-sociohealth-data"
      ],
      "metadata": {
        "id": "32_ux5TsBhUu"
      }
    },
    {
      "cell_type": "code",
      "source": [
        "import requests\n",
        "\n",
        "url = \"https://corgis-edu.github.io/corgis/datasets/csv/weather/weather.csv\"\n",
        "file_path = \"/content/weather.csv\"\n",
        "try:\n",
        "    response = requests.get(url)\n",
        "    if response.status_code == 200:\n",
        "        with open(file_path, 'wb') as file:\n",
        "            file.write(response.content)\n",
        "        download_success = True\n",
        "    else:\n",
        "        download_success = False\n",
        "        error_message = f\"Failed to download. Status code: {response.status_code}\"\n",
        "except Exception as e:\n",
        "    download_success = False\n",
        "    error_message = str(e)\n",
        "\n",
        "download_success, error_message if not download_success else \"Download successful\""
      ],
      "metadata": {
        "id": "6mi3ijhqOUaR"
      },
      "execution_count": null,
      "outputs": []
    },
    {
      "cell_type": "code",
      "source": [
        "import pandas as pd\n",
        "\n",
        "data = pd.read_csv(file_path)\n",
        "data"
      ],
      "metadata": {
        "id": "kIWJIw1HPUts"
      },
      "execution_count": null,
      "outputs": []
    },
    {
      "cell_type": "markdown",
      "source": [
        "**Weather Dataset**"
      ],
      "metadata": {
        "id": "sPS6c5twYedS"
      }
    },
    {
      "cell_type": "code",
      "metadata": {
        "id": "xyv_i85IWInT"
      },
      "source": [
        "import pandas as pd\n",
        "import tensorflow as tf\n",
        "import numpy as np\n",
        "import os\n",
        "\n",
        "path = tf.keras.utils.get_file(\n",
        "    origin='https://storage.googleapis.com/tensorflow/tf-keras-datasets/jena_climate_2009_2016.csv.zip',\n",
        "    fname='jena_climate_2009_2016.csv.zip',\n",
        "    extract=True)\n",
        "csv_path, _ = os.path.splitext(path)"
      ],
      "execution_count": null,
      "outputs": []
    },
    {
      "cell_type": "code",
      "metadata": {
        "id": "TX6uGeeeWIkG"
      },
      "source": [
        "df = pd.read_csv(csv_path)\n",
        "df"
      ],
      "execution_count": null,
      "outputs": []
    },
    {
      "cell_type": "code",
      "source": [
        "df.columns.values"
      ],
      "metadata": {
        "id": "x-NiQZzSY1en"
      },
      "execution_count": null,
      "outputs": []
    },
    {
      "cell_type": "code",
      "source": [
        "np.mean(df[\"p (mbar)\"])"
      ],
      "metadata": {
        "id": "GW0M0YA3Zx5o"
      },
      "execution_count": null,
      "outputs": []
    },
    {
      "cell_type": "markdown",
      "source": [
        "**Markov Model**"
      ],
      "metadata": {
        "id": "m0rAg6NaB-QA"
      }
    },
    {
      "cell_type": "code",
      "source": [
        "import numpy as np\n",
        "import os\n",
        "moves = {\"R\":0, \"P\":1, \"S\":2}\n",
        "reverse_moves = {0:\"R\", 1:\"P\", 2:\"S\"}\n",
        "model = np.zeros((3, 3))\n",
        "last_move = np.random.randint(0, 3)\n",
        "\n",
        "while True:\n",
        "    string = input()\n",
        "    while string not in moves:\n",
        "        string = input()\n",
        "    move = moves[string]\n",
        "\n",
        "    model[last_move][move] += 1\n",
        "    prediction = np.argmax(model[last_move])\n",
        "    last_move = move\n",
        "    print(f\"Prediction: {reverse_moves[prediction]}\", model)"
      ],
      "metadata": {
        "id": "BX7r5nz8CATs"
      },
      "execution_count": null,
      "outputs": []
    },
    {
      "cell_type": "markdown",
      "source": [
        "##**Media**##"
      ],
      "metadata": {
        "id": "-HqvPvKvtZjS"
      }
    },
    {
      "cell_type": "code",
      "source": [
        "import random\n",
        "[random.normalvariate(0, 2) for i in range(200)]"
      ],
      "metadata": {
        "id": "Vw5RSyWg2Rr4"
      },
      "execution_count": null,
      "outputs": []
    },
    {
      "cell_type": "code",
      "source": [
        "print((lambda l: sum(l) / len(l) * 1e-9) ([float(i.split(\" \")[1]) for i in open(\"fich.txt\", \"r\").read().split(\"\\n\")]))"
      ],
      "metadata": {
        "id": "hxBnilBhtZBb"
      },
      "execution_count": null,
      "outputs": []
    },
    {
      "cell_type": "code",
      "execution_count": null,
      "metadata": {
        "id": "760_NZS4I5Wx"
      },
      "outputs": [],
      "source": [
        "size = int(input())\n",
        "map = [input() for i in range(size)]\n",
        "nCoordenadas = int(input())\n",
        "\n",
        "coordenadas = [map(int, input().split(\",\")) for i in range(nCoordenadas)]\n",
        "\n",
        "salida = \"\"\n",
        "\n",
        "for i in coordenadas:\n",
        "    salida+=map[i[0]][i[1]]+\"\\n\"\n",
        "\n",
        "print(salida)"
      ]
    },
    {
      "cell_type": "code",
      "source": [
        "entrada = input().split(\"\\n\")\n",
        "size = int(entrada[0])\n",
        "map = [entrada[1+i] for i in range(size)]\n",
        "nCoordenadas = int(input())\n",
        "\n",
        "coordenadas = [map(int, input().split(\",\")) for i in range(nCoordenadas)]\n",
        "\n",
        "salida = \"\"\n",
        "\n",
        "for i in coordenadas:\n",
        "    salida+=map[i[0]][i[1]]+\"\\n\"\n",
        "\n",
        "print(salida)"
      ],
      "metadata": {
        "id": "PBWhOae2Nn-R"
      },
      "execution_count": null,
      "outputs": []
    },
    {
      "cell_type": "code",
      "source": [
        "f = open(\"t_values.txt\", \"r\")\n",
        "l = f.readline()\n",
        "res = []\n",
        "while l:\n",
        "    res.append(float(l[:-1].split(\" \")[1]))\n",
        "    l = f.readline()\n",
        "print(res)"
      ],
      "metadata": {
        "id": "kCxnxeAKU3EN"
      },
      "execution_count": null,
      "outputs": []
    }
  ]
}