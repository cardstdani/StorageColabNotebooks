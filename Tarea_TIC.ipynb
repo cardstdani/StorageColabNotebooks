{
  "nbformat": 4,
  "nbformat_minor": 0,
  "metadata": {
    "colab": {
      "provenance": [],
      "authorship_tag": "ABX9TyN5PKudiI8KSYN9/2oYl5ew",
      "include_colab_link": true
    },
    "kernelspec": {
      "name": "python3",
      "display_name": "Python 3"
    },
    "language_info": {
      "name": "python"
    },
    "accelerator": "GPU"
  },
  "cells": [
    {
      "cell_type": "markdown",
      "metadata": {
        "id": "view-in-github",
        "colab_type": "text"
      },
      "source": [
        "<a href=\"https://colab.research.google.com/github/cardstdani/StorageColabNotebooks/blob/main/Tarea_TIC.ipynb\" target=\"_parent\"><img src=\"https://colab.research.google.com/assets/colab-badge.svg\" alt=\"Open In Colab\"/></a>"
      ]
    },
    {
      "cell_type": "code",
      "source": [
        "!nvidia-smi"
      ],
      "metadata": {
        "id": "2dfmDd0t13L8",
        "outputId": "05bebbc4-c513-4fa0-8dcf-007d868bf6f6",
        "colab": {
          "base_uri": "https://localhost:8080/"
        }
      },
      "execution_count": null,
      "outputs": [
        {
          "output_type": "stream",
          "name": "stdout",
          "text": [
            "Sat May 28 08:45:52 2022       \n",
            "+-----------------------------------------------------------------------------+\n",
            "| NVIDIA-SMI 460.32.03    Driver Version: 460.32.03    CUDA Version: 11.2     |\n",
            "|-------------------------------+----------------------+----------------------+\n",
            "| GPU  Name        Persistence-M| Bus-Id        Disp.A | Volatile Uncorr. ECC |\n",
            "| Fan  Temp  Perf  Pwr:Usage/Cap|         Memory-Usage | GPU-Util  Compute M. |\n",
            "|                               |                      |               MIG M. |\n",
            "|===============================+======================+======================|\n",
            "|   0  Tesla K80           Off  | 00000000:00:04.0 Off |                    0 |\n",
            "| N/A   36C    P8    28W / 149W |      0MiB / 11441MiB |      0%      Default |\n",
            "|                               |                      |                  N/A |\n",
            "+-------------------------------+----------------------+----------------------+\n",
            "                                                                               \n",
            "+-----------------------------------------------------------------------------+\n",
            "| Processes:                                                                  |\n",
            "|  GPU   GI   CI        PID   Type   Process name                  GPU Memory |\n",
            "|        ID   ID                                                   Usage      |\n",
            "|=============================================================================|\n",
            "|  No running processes found                                                 |\n",
            "+-----------------------------------------------------------------------------+\n"
          ]
        }
      ]
    },
    {
      "cell_type": "markdown",
      "source": [
        "##**SEC_1**"
      ],
      "metadata": {
        "id": "GzO62WG1kfO6"
      }
    },
    {
      "cell_type": "code",
      "execution_count": null,
      "metadata": {
        "id": "qah5BHXrj88F"
      },
      "outputs": [],
      "source": [
        "n1 = int(input(\"Introduce un número: \\n\"))\n",
        "n2 = int(input(\"Introduce un número: \\n\"))\n",
        "\n",
        "print(f\"a+b={n1+n2}\\na-b={n1-n2}\")"
      ]
    },
    {
      "cell_type": "markdown",
      "source": [
        "##**SEC_2**"
      ],
      "metadata": {
        "id": "QkKPn79VkmcB"
      }
    },
    {
      "cell_type": "code",
      "execution_count": null,
      "metadata": {
        "colab": {
          "base_uri": "https://localhost:8080/"
        },
        "id": "dbg4iYEbkmcC",
        "outputId": "9ec056c7-d74a-4d69-e903-f4f9a2269afc"
      },
      "outputs": [
        {
          "output_type": "stream",
          "name": "stdout",
          "text": [
            "Introduce un número: \n",
            "10\n",
            "Introduce un número: \n",
            "7\n",
            "2\n"
          ]
        }
      ],
      "source": [
        "n1 = int(input(\"Introduce un número: \\n\"))\n",
        "n2 = int(input(\"Introduce un número: \\n\"))\n",
        "\n",
        "a = abs(n2-n1)\n",
        "print(a-1)"
      ]
    },
    {
      "cell_type": "markdown",
      "source": [
        "##**SEC_3**"
      ],
      "metadata": {
        "id": "C5eNJmILkmld"
      }
    },
    {
      "cell_type": "code",
      "execution_count": null,
      "metadata": {
        "id": "3hUzwQwlkmle"
      },
      "outputs": [],
      "source": [
        "n1 = float(input(\"Introduce un número: \\n\"))\n",
        "\n",
        "print(f\"mm={n1}\\ncm={n1/10}\\ndm={n1/100}\\nm={n1/1000}\")"
      ]
    },
    {
      "cell_type": "markdown",
      "source": [
        "##**SEC_4**"
      ],
      "metadata": {
        "id": "imAZ5jLvkmqY"
      }
    },
    {
      "cell_type": "code",
      "execution_count": null,
      "metadata": {
        "id": "sSM5dsmBkmqZ"
      },
      "outputs": [],
      "source": [
        "a = int(input(\"Introduce un número (a): \\n\"))\n",
        "b = int(input(\"Introduce un número (b): \\n\"))\n",
        "\n",
        "c = (4*a**4 - 3*a*b + b**2)/(a**2 - b**2)\n",
        "print(f\"c={c}\\nd={(3*c**2 + (a+b))/4}\")"
      ]
    },
    {
      "cell_type": "markdown",
      "source": [
        "##**SEC_5**"
      ],
      "metadata": {
        "id": "TJyHonrkkmv4"
      }
    },
    {
      "cell_type": "code",
      "execution_count": null,
      "metadata": {
        "colab": {
          "base_uri": "https://localhost:8080/"
        },
        "id": "QfdGNsELkmv5",
        "outputId": "e87fcbfb-fa15-4038-b342-9c6c3096434d"
      },
      "outputs": [
        {
          "output_type": "stream",
          "name": "stdout",
          "text": [
            "Introduce un número: \n",
            "4\n",
            "Introduce un número: \n",
            "4\n",
            "Introduce un número: \n",
            "4\n",
            "Introduce un número: \n",
            "4\n",
            "4 = 25.0%\n",
            "4 = 25.0%\n",
            "4 = 25.0%\n",
            "4 = 25.0%\n",
            "\n"
          ]
        }
      ],
      "source": [
        "l = []\n",
        "l.append(int(input(\"Introduce un número: \\n\")))\n",
        "l.append(int(input(\"Introduce un número: \\n\")))\n",
        "l.append(int(input(\"Introduce un número: \\n\")))\n",
        "l.append(int(input(\"Introduce un número: \\n\")))\n",
        "\n",
        "s = sum(l)\n",
        "print(f\"\\n{l[0]} = {(l[0]*100)/s}%\\n{l[1]} = {(l[1]*100)/s}%\\n{l[2]} = {(l[0]*100)/s}%\\n{l[3]} = {(l[3]*100)/s}%\\n\")"
      ]
    },
    {
      "cell_type": "markdown",
      "source": [
        "##**SEC_6**"
      ],
      "metadata": {
        "id": "UauPlIFYkm0s"
      }
    },
    {
      "cell_type": "code",
      "execution_count": null,
      "metadata": {
        "id": "0hKHXcRFkm0t"
      },
      "outputs": [],
      "source": [
        "l = float(input(\"Introduce un número: \\n\"))\n",
        "\n",
        "print(f\"El área del cuadrado de lado {l} es {l*l}, y su perímetro es {4*l}\")"
      ]
    },
    {
      "cell_type": "markdown",
      "source": [
        "##**SEC_7**"
      ],
      "metadata": {
        "id": "gWc0EUfIkm5r"
      }
    },
    {
      "cell_type": "code",
      "execution_count": null,
      "metadata": {
        "id": "PIjePJ1Hkm5r"
      },
      "outputs": [],
      "source": [
        "h = int(input(\"Introduce un número: \\n\"))\n",
        "\n",
        "print(f\"{h} horas equivalen a {60*h} minutos y a {3600*h} segundos\")"
      ]
    },
    {
      "cell_type": "markdown",
      "source": [
        "##**SEC_8**"
      ],
      "metadata": {
        "id": "J5fN6MKokm-l"
      }
    },
    {
      "cell_type": "code",
      "execution_count": null,
      "metadata": {
        "id": "y7vvsd53km-m"
      },
      "outputs": [],
      "source": [
        "f = int(input(\"Introduce un número: \\n\"))\n",
        "\n",
        "c = (32*f − 32) * (5/9)\n",
        "print(f\"{f}°F = {c}°C = {c + 273.15}K\")"
      ]
    },
    {
      "cell_type": "markdown",
      "source": [
        "##**SEC_9**"
      ],
      "metadata": {
        "id": "MMISXifaknED"
      }
    },
    {
      "cell_type": "code",
      "execution_count": null,
      "metadata": {
        "colab": {
          "base_uri": "https://localhost:8080/"
        },
        "id": "NOJHwmQuknED",
        "outputId": "4c90087a-5bda-4dd2-88c6-64f5e7d4c159"
      },
      "outputs": [
        {
          "output_type": "stream",
          "name": "stdout",
          "text": [
            "Introduce un número: \n",
            "1\n",
            "1° = 1.1111111111111112g\n"
          ]
        }
      ],
      "source": [
        "s = int(input(\"Introduce un número: \\n\"))\n",
        "\n",
        "print(f\"{s}° = {s*(200 / 180)}g\")"
      ]
    },
    {
      "cell_type": "code",
      "source": [
        "c = int(input(\"Introduce un número: \\n\"))\n",
        "\n",
        "print(f\"{c}g = {c*(180/200)}°\")"
      ],
      "metadata": {
        "colab": {
          "base_uri": "https://localhost:8080/"
        },
        "id": "QrSXgFD_obAT",
        "outputId": "a311ad2c-d78a-4c3b-ba84-fb5d1874e603"
      },
      "execution_count": null,
      "outputs": [
        {
          "output_type": "stream",
          "name": "stdout",
          "text": [
            "Introduce un número: \n",
            "1\n",
            "1g = 0.9°\n"
          ]
        }
      ]
    },
    {
      "cell_type": "markdown",
      "source": [
        "##**SEC_10**"
      ],
      "metadata": {
        "id": "kvtiaF8dknJC"
      }
    },
    {
      "cell_type": "code",
      "execution_count": null,
      "metadata": {
        "id": "jhSyib4gknJC"
      },
      "outputs": [],
      "source": [
        "import math\n",
        "\n",
        "inp = int(input(\"\"\"\n",
        "Elige una opción:\\n\n",
        "0.- Rectángulo\n",
        "1.- Círculo\n",
        "2.- Rombo\n",
        "3.- Triángulo\\n\"\"\")) % 4\n",
        "\n",
        "if inp==0:\n",
        "  base = float(input(\"Introduce la base:\\n\"))\n",
        "  altura = float(input(\"Introduce la altura:\\n\"))\n",
        "  print(f\"El rectángulo de base {base} y altura {altura}, tiene {base*altura} unidades de área y {2*base + 2*altura} de perímetro\")\n",
        "elif inp==1:\n",
        "  r = float(input(\"Introduce el radio:\\n\"))\n",
        "  print(f\"El círculo de radio {r} tiene un área de {math.pi*r**2} y un perímetro de {2*math.pi*r}\")\n",
        "elif inp==2:\n",
        "  dm = float(input(\"Introduce la diagonal menor:\\n\"))\n",
        "  dM = float(input(\"Introduce la diagonal mayor:\\n\"))\n",
        "  l = float(input(\"Introduce el lado:\\n\"))\n",
        "  print(f\"El área es {dm*(dM)} y el perímetro {4*l}\")\n",
        "elif inp==3:\n",
        "  base = float(input(\"Introduce la base:\\n\"))\n",
        "  altura = float(input(\"Introduce la altura:\\n\"))\n",
        "  l0 = float(input(\"Introduce el lado 1:\\n\"))\n",
        "  l1 = float(input(\"Introduce el lado 2:\\n\"))\n",
        "  l2 = float(input(\"Introduce el lado 3:\\n\"))\n",
        "  print(f\"El área es {base*altura*0.5} y el perímetro {l0+l1+l2}\")"
      ]
    },
    {
      "cell_type": "code",
      "source": [
        "!pip install unidecode\n",
        "inp = str(input(\"Introduce un carácter: \"))\n",
        "import unidecode\n",
        "\n",
        "print(\"vocal\" if str(unidecode.unidecode(inp)).lower() in [\"a\", \"e\", \"i\", \"o\", \"u\"] else \"consonante\")"
      ],
      "metadata": {
        "colab": {
          "base_uri": "https://localhost:8080/"
        },
        "id": "Bl5Z6h-oXLCJ",
        "outputId": "54c76448-60c2-443c-e1e9-ef2344aaf5a6"
      },
      "execution_count": null,
      "outputs": [
        {
          "output_type": "stream",
          "name": "stdout",
          "text": [
            "Requirement already satisfied: unidecode in /usr/local/lib/python3.7/dist-packages (1.3.4)\n",
            "Introduce un carácter: Á\n",
            "vocal\n"
          ]
        }
      ]
    }
  ]
}