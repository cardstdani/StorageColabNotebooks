{
  "nbformat": 4,
  "nbformat_minor": 0,
  "metadata": {
    "colab": {
      "provenance": [],
      "authorship_tag": "ABX9TyOBcKKVaFuvJgEsed+kKKYt",
      "include_colab_link": true
    },
    "kernelspec": {
      "name": "python3",
      "display_name": "Python 3"
    },
    "language_info": {
      "name": "python"
    }
  },
  "cells": [
    {
      "cell_type": "markdown",
      "metadata": {
        "id": "view-in-github",
        "colab_type": "text"
      },
      "source": [
        "<a href=\"https://colab.research.google.com/github/cardstdani/StorageColabNotebooks/blob/main/Python_Class_3.ipynb\" target=\"_parent\"><img src=\"https://colab.research.google.com/assets/colab-badge.svg\" alt=\"Open In Colab\"/></a>"
      ]
    },
    {
      "cell_type": "markdown",
      "metadata": {
        "id": "1htrO5HXOZfM"
      },
      "source": [
        "##**Programación Estructurada**"
      ]
    },
    {
      "cell_type": "markdown",
      "metadata": {
        "id": "88XWSljvkX4f"
      },
      "source": [
        "**Introducción**"
      ]
    },
    {
      "cell_type": "code",
      "metadata": {
        "colab": {
          "base_uri": "https://localhost:8080/"
        },
        "id": "EuaMoPhZkPT1",
        "outputId": "0a30ae19-f6ce-4170-ebde-374540eea6a6"
      },
      "source": [
        "!nvidia-smi"
      ],
      "execution_count": null,
      "outputs": [
        {
          "output_type": "stream",
          "name": "stdout",
          "text": [
            "Fri Jan 14 19:33:11 2022       \n",
            "+-----------------------------------------------------------------------------+\n",
            "| NVIDIA-SMI 495.46       Driver Version: 460.32.03    CUDA Version: 11.2     |\n",
            "|-------------------------------+----------------------+----------------------+\n",
            "| GPU  Name        Persistence-M| Bus-Id        Disp.A | Volatile Uncorr. ECC |\n",
            "| Fan  Temp  Perf  Pwr:Usage/Cap|         Memory-Usage | GPU-Util  Compute M. |\n",
            "|                               |                      |               MIG M. |\n",
            "|===============================+======================+======================|\n",
            "|   0  Tesla K80           Off  | 00000000:00:04.0 Off |                    0 |\n",
            "| N/A   33C    P8    29W / 149W |      0MiB / 11441MiB |      0%      Default |\n",
            "|                               |                      |                  N/A |\n",
            "+-------------------------------+----------------------+----------------------+\n",
            "                                                                               \n",
            "+-----------------------------------------------------------------------------+\n",
            "| Processes:                                                                  |\n",
            "|  GPU   GI   CI        PID   Type   Process name                  GPU Memory |\n",
            "|        ID   ID                                                   Usage      |\n",
            "|=============================================================================|\n",
            "|  No running processes found                                                 |\n",
            "+-----------------------------------------------------------------------------+\n"
          ]
        }
      ]
    },
    {
      "cell_type": "code",
      "metadata": {
        "id": "3U3tqz50lg1B"
      },
      "source": [
        "bin(50000000)"
      ],
      "execution_count": null,
      "outputs": []
    },
    {
      "cell_type": "code",
      "metadata": {
        "colab": {
          "base_uri": "https://localhost:8080/"
        },
        "id": "kXHoa-aLVui_",
        "outputId": "2727ec22-2bad-45fe-ad83-058d252d9b7e"
      },
      "source": [
        "print(\"Hola\", \"mundo\")"
      ],
      "execution_count": null,
      "outputs": [
        {
          "output_type": "stream",
          "name": "stdout",
          "text": [
            "Hola mundo\n"
          ]
        }
      ]
    },
    {
      "cell_type": "code",
      "metadata": {
        "colab": {
          "base_uri": "https://localhost:8080/"
        },
        "id": "zoc3dSIlWTDl",
        "outputId": "38891450-14fd-4c77-fa49-2e6cb5d79959"
      },
      "source": [
        "if 1==1:\n",
        "  print(\"Hola\", \"mundo\")"
      ],
      "execution_count": null,
      "outputs": [
        {
          "output_type": "stream",
          "name": "stdout",
          "text": [
            "Hola mundo\n"
          ]
        }
      ]
    },
    {
      "cell_type": "code",
      "metadata": {
        "colab": {
          "base_uri": "https://localhost:8080/"
        },
        "id": "y2-gXvTCWp0H",
        "outputId": "6633db9b-5cb2-4cce-c16d-30418d7674fd"
      },
      "source": [
        "0==1"
      ],
      "execution_count": null,
      "outputs": [
        {
          "output_type": "execute_result",
          "data": {
            "text/plain": [
              "False"
            ]
          },
          "metadata": {},
          "execution_count": 6
        }
      ]
    },
    {
      "cell_type": "code",
      "metadata": {
        "colab": {
          "base_uri": "https://localhost:8080/"
        },
        "id": "3O9N6SuDW1L-",
        "outputId": "d20e5d8f-8c92-447a-e6b1-49da34a26a8a"
      },
      "source": [
        "89>=1"
      ],
      "execution_count": null,
      "outputs": [
        {
          "output_type": "execute_result",
          "data": {
            "text/plain": [
              "True"
            ]
          },
          "metadata": {},
          "execution_count": 8
        }
      ]
    },
    {
      "cell_type": "code",
      "metadata": {
        "colab": {
          "base_uri": "https://localhost:8080/"
        },
        "id": "KKqal_jfW5QN",
        "outputId": "c028487b-f5df-4d55-807b-dca6e042cd84"
      },
      "source": [
        "5<=90"
      ],
      "execution_count": null,
      "outputs": [
        {
          "output_type": "execute_result",
          "data": {
            "text/plain": [
              "True"
            ]
          },
          "metadata": {},
          "execution_count": 7
        }
      ]
    },
    {
      "cell_type": "code",
      "metadata": {
        "colab": {
          "base_uri": "https://localhost:8080/"
        },
        "id": "a3YVCx-VXBu9",
        "outputId": "7f19314f-b55f-4ce0-fb9a-0c64bdaed596"
      },
      "source": [
        "82374/1"
      ],
      "execution_count": null,
      "outputs": [
        {
          "output_type": "execute_result",
          "data": {
            "text/plain": [
              "82374.0"
            ]
          },
          "metadata": {},
          "execution_count": 6
        }
      ]
    },
    {
      "cell_type": "code",
      "metadata": {
        "id": "M4oVtIfJlbsf"
      },
      "source": [
        "bit = False\n",
        "bit = True"
      ],
      "execution_count": null,
      "outputs": []
    },
    {
      "cell_type": "code",
      "metadata": {
        "id": "3kk5w8hknVjY"
      },
      "source": [
        "a = 90.0"
      ],
      "execution_count": null,
      "outputs": []
    },
    {
      "cell_type": "code",
      "metadata": {
        "id": "_yoQTCAVnvzA"
      },
      "source": [
        "b = \"Hola mUndo!Hola mUndo!\""
      ],
      "execution_count": null,
      "outputs": []
    },
    {
      "cell_type": "code",
      "metadata": {
        "colab": {
          "base_uri": "https://localhost:8080/"
        },
        "id": "-iFcdm2bna7N",
        "outputId": "5297da5d-0a10-4069-82a0-2688087c87cc"
      },
      "source": [
        "type(a)"
      ],
      "execution_count": null,
      "outputs": [
        {
          "output_type": "execute_result",
          "data": {
            "text/plain": [
              "float"
            ]
          },
          "metadata": {},
          "execution_count": 23
        }
      ]
    },
    {
      "cell_type": "code",
      "metadata": {
        "colab": {
          "base_uri": "https://localhost:8080/"
        },
        "id": "Dk-YgMhhm5zf",
        "outputId": "c73a5a79-9621-45d6-d25f-c39fb585cda7"
      },
      "source": [
        "print(b)"
      ],
      "execution_count": null,
      "outputs": [
        {
          "output_type": "stream",
          "name": "stdout",
          "text": [
            "Hola mUndo!Hola mUndo!\n"
          ]
        }
      ]
    },
    {
      "cell_type": "code",
      "metadata": {
        "colab": {
          "base_uri": "https://localhost:8080/"
        },
        "id": "75HneqX2oO52",
        "outputId": "a083f4a3-2a99-4c4a-eb57-bc9fbf448888"
      },
      "source": [
        "1 and 0"
      ],
      "execution_count": null,
      "outputs": [
        {
          "output_type": "execute_result",
          "data": {
            "text/plain": [
              "0"
            ]
          },
          "metadata": {},
          "execution_count": 33
        }
      ]
    },
    {
      "cell_type": "code",
      "metadata": {
        "colab": {
          "base_uri": "https://localhost:8080/"
        },
        "id": "8aMC5ZUtOxgs",
        "outputId": "7f28d2c0-6558-44e9-8d22-e83967518395"
      },
      "source": [
        "text = \"\"\"Lorem Ipsum is simply dummy text of the printing and typesetting industry. Lorem Ipsum has been the industry's standard dummy text ever since the 1500s, when an unknown printer took a galley of type and scrambled it to make a type specimen book. It has survived not only five centuries, but also the leap into electronic typesetting, remaining essentially unchanged. It was popularised in the 1960s with the release of Letraset sheets containing Lorem Ipsum passages, and more recently with desktop publishing software like Aldus PageMaker including versions of Lorem Ipsum. Why do we use it? It is a long established fact that a reader will be distracted by the readable content of a page when looking at its layout. The point of using Lorem Ipsum is that it has a more-or-less normal distribution of letters, as opposed to using 'Content here, content here', making it look like readable English. Many desktop publishing packages and web page editors now use Lorem Ipsum as their default model text, and a search for 'lorem ipsum' will uncover many web sites still in their infancy. Various versions have evolved over the years, sometimes by accident, sometimes on purpose (injected humour and the like). Where does it come from? Contrary to popular belief, Lorem Ipsum is not simply random text. It has roots in a piece of classical Latin literature from 45 BC, making it over 2000 years old. Richard McClintock, a Latin professor at Hampden-Sydney College in Virginia, looked up one of the more obscure Latin words, consectetur, from a Lorem Ipsum passage, and going through the cites of the word in classical literature, discovered the undoubtable source. Lorem Ipsum comes from sections 1.10.32 and 1.10.33 of \"de Finibus Bonorum et Malorum\" (The Extremes of Good and Evil) by Cicero, written in 45 BC. This book is a treatise on the theory of ethics, very popular during the Renaissance. The first line of Lorem Ipsum, \"Lorem ipsum dolor sit amet..\", comes from a line in section 1.10.32. The standard chunk of Lorem Ipsum used since the 1500s is reproduced below for those interested. Sections 1.10.32 and 1.10.33 from \"de Finibus Bonorum et Malorum\" by Cicero are also reproduced in their exact original form, accompanied by English versions from the 1914 translation by H. Rackham. Where can I get some? There are many variations of passages of Lorem Ipsum available, but the majority have suffered alteration in some form, by injected humour, or randomised words which don't look even slightly believable. If you are going to use a passage of Lorem Ipsum, you need to be sure there isn't anything embarrassing hidden in the middle of text. All the Lorem Ipsum generators on the Internet tend to repeat predefined chunks as necessary, making this the first true generator on the Internet. It uses a dictionary of over 200 Latin words, combined with a handful of model sentence structures, to generate Lorem Ipsum which looks reasonable. The generated Lorem Ipsum is therefore always free from repetition, injected humour, or non-characteristic words etc.\"\"\"\n",
        "print(text)"
      ],
      "execution_count": null,
      "outputs": [
        {
          "output_type": "stream",
          "name": "stdout",
          "text": [
            "Lorem Ipsum is simply dummy text of the printing and typesetting industry. Lorem Ipsum has been the industry's standard dummy text ever since the 1500s, when an unknown printer took a galley of type and scrambled it to make a type specimen book. It has survived not only five centuries, but also the leap into electronic typesetting, remaining essentially unchanged. It was popularised in the 1960s with the release of Letraset sheets containing Lorem Ipsum passages, and more recently with desktop publishing software like Aldus PageMaker including versions of Lorem Ipsum. Why do we use it? It is a long established fact that a reader will be distracted by the readable content of a page when looking at its layout. The point of using Lorem Ipsum is that it has a more-or-less normal distribution of letters, as opposed to using 'Content here, content here', making it look like readable English. Many desktop publishing packages and web page editors now use Lorem Ipsum as their default model text, and a search for 'lorem ipsum' will uncover many web sites still in their infancy. Various versions have evolved over the years, sometimes by accident, sometimes on purpose (injected humour and the like). Where does it come from? Contrary to popular belief, Lorem Ipsum is not simply random text. It has roots in a piece of classical Latin literature from 45 BC, making it over 2000 years old. Richard McClintock, a Latin professor at Hampden-Sydney College in Virginia, looked up one of the more obscure Latin words, consectetur, from a Lorem Ipsum passage, and going through the cites of the word in classical literature, discovered the undoubtable source. Lorem Ipsum comes from sections 1.10.32 and 1.10.33 of \"de Finibus Bonorum et Malorum\" (The Extremes of Good and Evil) by Cicero, written in 45 BC. This book is a treatise on the theory of ethics, very popular during the Renaissance. The first line of Lorem Ipsum, \"Lorem ipsum dolor sit amet..\", comes from a line in section 1.10.32. The standard chunk of Lorem Ipsum used since the 1500s is reproduced below for those interested. Sections 1.10.32 and 1.10.33 from \"de Finibus Bonorum et Malorum\" by Cicero are also reproduced in their exact original form, accompanied by English versions from the 1914 translation by H. Rackham. Where can I get some? There are many variations of passages of Lorem Ipsum available, but the majority have suffered alteration in some form, by injected humour, or randomised words which don't look even slightly believable. If you are going to use a passage of Lorem Ipsum, you need to be sure there isn't anything embarrassing hidden in the middle of text. All the Lorem Ipsum generators on the Internet tend to repeat predefined chunks as necessary, making this the first true generator on the Internet. It uses a dictionary of over 200 Latin words, combined with a handful of model sentence structures, to generate Lorem Ipsum which looks reasonable. The generated Lorem Ipsum is therefore always free from repetition, injected humour, or non-characteristic words etc.\n"
          ]
        }
      ]
    },
    {
      "cell_type": "code",
      "metadata": {
        "colab": {
          "base_uri": "https://localhost:8080/"
        },
        "id": "W-pqm5Bdo1p6",
        "outputId": "0390eeec-1a34-4ff8-dc84-c2fd25b66c9d"
      },
      "source": [
        "if text[0]==\"a\":\n",
        "  print(\"El primer caracter es a\")\n",
        "else:\n",
        "  print(\"A\")"
      ],
      "execution_count": null,
      "outputs": [
        {
          "output_type": "stream",
          "name": "stdout",
          "text": [
            "A\n"
          ]
        }
      ]
    },
    {
      "cell_type": "code",
      "metadata": {
        "colab": {
          "base_uri": "https://localhost:8080/"
        },
        "id": "KJDrp1iza45F",
        "outputId": "822daa0c-ceaa-45f4-f8e0-6b535ec1edc7"
      },
      "source": [
        "import tensorflow as tf\n",
        "\n",
        "tf.keras.layers.GlobalMaxPooling2D() (tf.constant([[[[0, 0, 0, 0, 0, 100], [1, 2, 3, 4, 5, 6]]]]))"
      ],
      "execution_count": null,
      "outputs": [
        {
          "output_type": "execute_result",
          "data": {
            "text/plain": [
              "<tf.Tensor: shape=(1, 6), dtype=int32, numpy=array([[  1,   2,   3,   4,   5, 100]], dtype=int32)>"
            ]
          },
          "metadata": {},
          "execution_count": 1
        }
      ]
    },
    {
      "cell_type": "code",
      "metadata": {
        "id": "IurOYp_MTHKU",
        "colab": {
          "base_uri": "https://localhost:8080/"
        },
        "outputId": "6bb0c101-49f2-4c7a-b811-7edf80e07002"
      },
      "source": [
        "import random\n",
        "\n",
        "print(random.randrange(0, 2))"
      ],
      "execution_count": null,
      "outputs": [
        {
          "output_type": "stream",
          "name": "stdout",
          "text": [
            "0\n"
          ]
        }
      ]
    },
    {
      "cell_type": "code",
      "source": [
        "import random\n",
        "n = 200000\n",
        "l = [0, 0]\n",
        "\n",
        "for i in range(n):\n",
        "  r = (random.randrange(0, 2))\n",
        "  if r==0:\n",
        "    l[0] += 1\n",
        "  else:\n",
        "    l[1] += 1\n",
        "print(f\"{100*(l[0] / sum(l))}%\", f\"{100*(l[1] / sum(l))}%\")"
      ],
      "metadata": {
        "id": "4Tjqvbs9XshK",
        "colab": {
          "base_uri": "https://localhost:8080/"
        },
        "outputId": "f31ec506-e1cc-4568-937b-6e86f3d28c50"
      },
      "execution_count": null,
      "outputs": [
        {
          "output_type": "stream",
          "name": "stdout",
          "text": [
            "49.869% 50.131%\n"
          ]
        }
      ]
    },
    {
      "cell_type": "code",
      "source": [
        "s = 15\n",
        "print(f\"Hola {s}\")"
      ],
      "metadata": {
        "colab": {
          "base_uri": "https://localhost:8080/"
        },
        "id": "HRYAB8JGcN3M",
        "outputId": "061f5bc3-0b5e-45fc-fdcd-ec4be25956d0"
      },
      "execution_count": null,
      "outputs": [
        {
          "output_type": "stream",
          "name": "stdout",
          "text": [
            "Hola 15\n"
          ]
        }
      ]
    },
    {
      "cell_type": "code",
      "source": [
        "import numpy as np\n",
        "import matplotlib.pyplot as plt\n",
        "\n",
        "x = list(range(0, 100))\n",
        "y = [i**2 for i in x]\n",
        "\n",
        "plt.plot(x, y)"
      ],
      "metadata": {
        "id": "n_IUP_GYJmhj",
        "colab": {
          "base_uri": "https://localhost:8080/",
          "height": 282
        },
        "outputId": "b9fd9201-9238-421c-9100-b8e9296d4694"
      },
      "execution_count": null,
      "outputs": [
        {
          "output_type": "execute_result",
          "data": {
            "text/plain": [
              "[<matplotlib.lines.Line2D at 0x7f97d5c23110>]"
            ]
          },
          "metadata": {},
          "execution_count": 33
        },
        {
          "output_type": "display_data",
          "data": {
            "image/png": "[encoded data removed]",
            "text/plain": [
              "<Figure size 432x288 with 1 Axes>"
            ]
          },
          "metadata": {
            "needs_background": "light"
          }
        }
      ]
    },
    {
      "cell_type": "code",
      "source": [
        "dir(plt)"
      ],
      "metadata": {
        "id": "mXiu7jzQuTZG"
      },
      "execution_count": null,
      "outputs": []
    },
    {
      "cell_type": "code",
      "source": [
        "import numpy as np\n",
        "import matplotlib.pyplot as plt\n",
        "\n",
        "x = list(range(1, 10))\n",
        "y = [0]*9\n",
        "\n",
        "for i in range(1, 2500):\n",
        "  a = str(i**2)[0]  \n",
        "  y[int(a)-1] += 1\n",
        "\n",
        "plt.bar(x, y)"
      ],
      "metadata": {
        "colab": {
          "base_uri": "https://localhost:8080/",
          "height": 282
        },
        "id": "NK5X84v6N8Uh",
        "outputId": "541c9dcb-65b5-43b8-e10d-6415dcb7d324"
      },
      "execution_count": null,
      "outputs": [
        {
          "output_type": "execute_result",
          "data": {
            "text/plain": [
              "<BarContainer object of 9 artists>"
            ]
          },
          "metadata": {},
          "execution_count": 26
        },
        {
          "output_type": "display_data",
          "data": {
            "image/png": "[encoded data removed]",
            "text/plain": [
              "<Figure size 432x288 with 1 Axes>"
            ]
          },
          "metadata": {
            "needs_background": "light"
          }
        }
      ]
    },
    {
      "cell_type": "code",
      "source": [
        "y[4]+=1"
      ],
      "metadata": {
        "id": "04Y76kzJQGPL"
      },
      "execution_count": null,
      "outputs": []
    },
    {
      "cell_type": "markdown",
      "source": [
        "**Tarea1:**\n",
        "\n",
        "Encontrar la menor y mayor suma que se puede realizar con n elementos pertenecientes a una lista.\n",
        "\n",
        "Input 1: [5, 8, 9, 1, 3]\n",
        "\n",
        "Input 2: 3\n",
        "\n",
        "Output: 9, 22"
      ],
      "metadata": {
        "id": "zLIRv0mrlorP"
      }
    },
    {
      "cell_type": "code",
      "source": [
        "import random\n",
        "\n",
        "e1 = []\n",
        "e2 = random.randint(1, 3)\n",
        "\n",
        "for i in range(random.randint(5, 8)):\n",
        "  e1.append(random.randint(0, 100))\n",
        "\n",
        "print(e1, e2)\n",
        "\n",
        "#Ordenar lista\n",
        "sl = sorted(e1)\n",
        "\n",
        "#Coger los n mínimos y máximos elementos\n",
        "print(sum(sl[0:e2]), sum(sl[-e2:]))"
      ],
      "metadata": {
        "colab": {
          "base_uri": "https://localhost:8080/"
        },
        "id": "FRiDfyRtmN0F",
        "outputId": "8cfab13f-d77d-4371-8320-c9ea7ef8777d"
      },
      "execution_count": null,
      "outputs": [
        {
          "output_type": "stream",
          "name": "stdout",
          "text": [
            "[80, 53, 40, 84, 22, 17] 3\n",
            "79 217\n"
          ]
        }
      ]
    },
    {
      "cell_type": "code",
      "source": [
        "def a(e1, e2):\n",
        "  sl = sorted(e1)\n",
        "  return (sum(sl[:e2]), sum(sl[-e2:]))\n",
        "\n",
        "print(a([5, 8, 9, 1, 3], 3))"
      ],
      "metadata": {
        "colab": {
          "base_uri": "https://localhost:8080/"
        },
        "id": "MakQPrkL7Aox",
        "outputId": "6ffe5ca6-4c3e-4537-b75e-bcd89b558cc2"
      },
      "execution_count": null,
      "outputs": [
        {
          "output_type": "stream",
          "name": "stdout",
          "text": [
            "(9, 22)\n"
          ]
        }
      ]
    },
    {
      "cell_type": "code",
      "source": [
        "def a(e1, e2):\n",
        "  if e2 > len(e1):\n",
        "    return \"Error\"\n",
        "  \n",
        "  minimos, maximos = [], []\n",
        "  tmp = e1[:]\n",
        "  tmp2 = e1[:]\n",
        "\n",
        "  for i in range(e2):\n",
        "    var = min(tmp)\n",
        "    minimos.append(var)\n",
        "    tmp.remove(var)\n",
        "\n",
        "    var = max(tmp2)\n",
        "    maximos.append(var)\n",
        "    tmp2.remove(var)\n",
        "    \n",
        "  return (sum(minimos), sum(maximos))\n",
        "\n",
        "print(a([5, 8, 9, 1, 3], 3))"
      ],
      "metadata": {
        "id": "vnIsdAKof69g",
        "colab": {
          "base_uri": "https://localhost:8080/"
        },
        "outputId": "6c73af05-404d-45ff-8d54-f978fde1750e"
      },
      "execution_count": null,
      "outputs": [
        {
          "output_type": "stream",
          "name": "stdout",
          "text": [
            "(9, 22)\n"
          ]
        }
      ]
    },
    {
      "cell_type": "code",
      "source": [
        "sum([0, 1, 2])"
      ],
      "metadata": {
        "colab": {
          "base_uri": "https://localhost:8080/"
        },
        "id": "C_HP1zXU8RYw",
        "outputId": "23f87743-6c43-4cda-ffc0-6be6a9036a47"
      },
      "execution_count": null,
      "outputs": [
        {
          "output_type": "execute_result",
          "data": {
            "text/plain": [
              "3"
            ]
          },
          "metadata": {},
          "execution_count": 1
        }
      ]
    },
    {
      "cell_type": "code",
      "source": [
        "import matplotlib.pyplot as plt\n",
        "import numpy as np\n",
        "import math\n",
        "\n",
        "l1, l2 = 0, 400\n",
        "f = lambda a : [(i-200)**2 for i in a]\n",
        "x = np.linspace(l1, l2)\n",
        "y = f(x)\n",
        "\n",
        "prec = 30\n",
        "width = (l2-l1)/prec\n",
        "x1 = [i*width + (width/2) for i in range(prec)] \n",
        "y1 = f(x1)\n",
        "\n",
        "auc = sum(y1)*width\n",
        "print(auc)\n",
        "\n",
        "plt.plot(x, y)\n",
        "plt.bar(x1, y1, width=width, color=\"green\")"
      ],
      "metadata": {
        "colab": {
          "base_uri": "https://localhost:8080/",
          "height": 300
        },
        "id": "iXJH8nkzCWSF",
        "outputId": "289ff3d8-ad60-4e8a-9cf7-dc6004cf53f2"
      },
      "execution_count": null,
      "outputs": [
        {
          "output_type": "stream",
          "name": "stdout",
          "text": [
            "5327407.4074074095\n"
          ]
        },
        {
          "output_type": "execute_result",
          "data": {
            "text/plain": [
              "<BarContainer object of 30 artists>"
            ]
          },
          "metadata": {},
          "execution_count": 8
        },
        {
          "output_type": "display_data",
          "data": {
            "image/png": "[encoded data removed]",
            "text/plain": [
              "<Figure size 432x288 with 1 Axes>"
            ]
          },
          "metadata": {
            "needs_background": "light"
          }
        }
      ]
    },
    {
      "cell_type": "code",
      "source": [
        "class coche:\n",
        "  def __init__(self, m):\n",
        "    self.modelo = m\n",
        "  \n",
        "  def __str__(self):\n",
        "    return self.modelo\n",
        "\n",
        "c = coche(\"Ferrari\")\n",
        "print(c)"
      ],
      "metadata": {
        "colab": {
          "base_uri": "https://localhost:8080/"
        },
        "id": "NZGPmaHDiLK7",
        "outputId": "5583fb60-a357-4cf0-d3a9-b2587647042b"
      },
      "execution_count": null,
      "outputs": [
        {
          "output_type": "stream",
          "name": "stdout",
          "text": [
            "Ferrari\n"
          ]
        }
      ]
    }
  ]
}